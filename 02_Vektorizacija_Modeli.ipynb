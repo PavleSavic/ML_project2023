{
 "cells": [
  {
   "cell_type": "code",
   "execution_count": 2,
   "id": "39e0e2f2",
   "metadata": {},
   "outputs": [],
   "source": [
    "import numpy as np\n",
    "import pandas as pd\n",
    "from matplotlib import pyplot as plt"
   ]
  },
  {
   "cell_type": "code",
   "execution_count": 3,
   "id": "cbc8e803",
   "metadata": {},
   "outputs": [],
   "source": [
    "import string\n",
    "import nltk\n",
    "from nltk.corpus import stopwords\n",
    "import re\n",
    "import random"
   ]
  },
  {
   "cell_type": "code",
   "execution_count": 4,
   "id": "b9784f17",
   "metadata": {},
   "outputs": [],
   "source": [
    "from sklearn import model_selection, preprocessing, feature_extraction, linear_model, metrics, pipeline, svm, neighbors"
   ]
  },
  {
   "cell_type": "code",
   "execution_count": 5,
   "id": "a474964e",
   "metadata": {},
   "outputs": [],
   "source": [
    "from functools import partial"
   ]
  },
  {
   "cell_type": "code",
   "execution_count": 6,
   "id": "810419db",
   "metadata": {},
   "outputs": [],
   "source": [
    "data = pd.read_csv('dataset/IMDB_dataset.csv')"
   ]
  },
  {
   "cell_type": "code",
   "execution_count": 7,
   "id": "0cfb77f2",
   "metadata": {},
   "outputs": [
    {
     "data": {
      "text/html": [
       "<div>\n",
       "<style scoped>\n",
       "    .dataframe tbody tr th:only-of-type {\n",
       "        vertical-align: middle;\n",
       "    }\n",
       "\n",
       "    .dataframe tbody tr th {\n",
       "        vertical-align: top;\n",
       "    }\n",
       "\n",
       "    .dataframe thead th {\n",
       "        text-align: right;\n",
       "    }\n",
       "</style>\n",
       "<table border=\"1\" class=\"dataframe\">\n",
       "  <thead>\n",
       "    <tr style=\"text-align: right;\">\n",
       "      <th></th>\n",
       "      <th>review</th>\n",
       "      <th>sentiment</th>\n",
       "    </tr>\n",
       "  </thead>\n",
       "  <tbody>\n",
       "    <tr>\n",
       "      <th>0</th>\n",
       "      <td>One of the other reviewers has mentioned that ...</td>\n",
       "      <td>positive</td>\n",
       "    </tr>\n",
       "    <tr>\n",
       "      <th>1</th>\n",
       "      <td>A wonderful little production. &lt;br /&gt;&lt;br /&gt;The...</td>\n",
       "      <td>positive</td>\n",
       "    </tr>\n",
       "    <tr>\n",
       "      <th>2</th>\n",
       "      <td>I thought this was a wonderful way to spend ti...</td>\n",
       "      <td>positive</td>\n",
       "    </tr>\n",
       "    <tr>\n",
       "      <th>3</th>\n",
       "      <td>Basically there's a family where a little boy ...</td>\n",
       "      <td>negative</td>\n",
       "    </tr>\n",
       "    <tr>\n",
       "      <th>4</th>\n",
       "      <td>Petter Mattei's \"Love in the Time of Money\" is...</td>\n",
       "      <td>positive</td>\n",
       "    </tr>\n",
       "  </tbody>\n",
       "</table>\n",
       "</div>"
      ],
      "text/plain": [
       "                                              review sentiment\n",
       "0  One of the other reviewers has mentioned that ...  positive\n",
       "1  A wonderful little production. <br /><br />The...  positive\n",
       "2  I thought this was a wonderful way to spend ti...  positive\n",
       "3  Basically there's a family where a little boy ...  negative\n",
       "4  Petter Mattei's \"Love in the Time of Money\" is...  positive"
      ]
     },
     "execution_count": 7,
     "metadata": {},
     "output_type": "execute_result"
    }
   ],
   "source": [
    "data.head()"
   ]
  },
  {
   "cell_type": "code",
   "execution_count": 8,
   "id": "7573ce0e",
   "metadata": {},
   "outputs": [
    {
     "data": {
      "text/html": [
       "<div>\n",
       "<style scoped>\n",
       "    .dataframe tbody tr th:only-of-type {\n",
       "        vertical-align: middle;\n",
       "    }\n",
       "\n",
       "    .dataframe tbody tr th {\n",
       "        vertical-align: top;\n",
       "    }\n",
       "\n",
       "    .dataframe thead th {\n",
       "        text-align: right;\n",
       "    }\n",
       "</style>\n",
       "<table border=\"1\" class=\"dataframe\">\n",
       "  <thead>\n",
       "    <tr style=\"text-align: right;\">\n",
       "      <th></th>\n",
       "      <th>review</th>\n",
       "      <th>sentiment</th>\n",
       "    </tr>\n",
       "  </thead>\n",
       "  <tbody>\n",
       "    <tr>\n",
       "      <th>0</th>\n",
       "      <td>One of the other reviewers has mentioned that ...</td>\n",
       "      <td>1</td>\n",
       "    </tr>\n",
       "    <tr>\n",
       "      <th>1</th>\n",
       "      <td>A wonderful little production. &lt;br /&gt;&lt;br /&gt;The...</td>\n",
       "      <td>1</td>\n",
       "    </tr>\n",
       "    <tr>\n",
       "      <th>2</th>\n",
       "      <td>I thought this was a wonderful way to spend ti...</td>\n",
       "      <td>1</td>\n",
       "    </tr>\n",
       "    <tr>\n",
       "      <th>3</th>\n",
       "      <td>Basically there's a family where a little boy ...</td>\n",
       "      <td>0</td>\n",
       "    </tr>\n",
       "    <tr>\n",
       "      <th>4</th>\n",
       "      <td>Petter Mattei's \"Love in the Time of Money\" is...</td>\n",
       "      <td>1</td>\n",
       "    </tr>\n",
       "  </tbody>\n",
       "</table>\n",
       "</div>"
      ],
      "text/plain": [
       "                                              review  sentiment\n",
       "0  One of the other reviewers has mentioned that ...          1\n",
       "1  A wonderful little production. <br /><br />The...          1\n",
       "2  I thought this was a wonderful way to spend ti...          1\n",
       "3  Basically there's a family where a little boy ...          0\n",
       "4  Petter Mattei's \"Love in the Time of Money\" is...          1"
      ]
     },
     "execution_count": 8,
     "metadata": {},
     "output_type": "execute_result"
    }
   ],
   "source": [
    "data.sentiment.replace(\"positive\", 1, inplace = True)\n",
    "data.sentiment.replace(\"negative\", 0, inplace = True)\n",
    "data.head()"
   ]
  },
  {
   "cell_type": "code",
   "execution_count": 9,
   "id": "7cc9dd17",
   "metadata": {},
   "outputs": [],
   "source": [
    "X = data['review']\n",
    "y = data['sentiment']"
   ]
  },
  {
   "cell_type": "code",
   "execution_count": 10,
   "id": "2258c2e8",
   "metadata": {},
   "outputs": [],
   "source": [
    "# radimo izbor hiperparametara pomocu validacionog skupa\n",
    "X_train_val, X_test, y_train_val, y_test = model_selection.train_test_split(X, y, test_size=0.33, stratify=y, random_state=1234)"
   ]
  },
  {
   "cell_type": "code",
   "execution_count": 11,
   "id": "ac4e3d0f",
   "metadata": {},
   "outputs": [],
   "source": [
    "X_train, X_val, y_train, y_val = model_selection.train_test_split(X_train_val, y_train_val, test_size=0.2, stratify=y_train_val, random_state=1234)"
   ]
  },
  {
   "cell_type": "code",
   "execution_count": 12,
   "id": "3411bfdd",
   "metadata": {},
   "outputs": [
    {
     "data": {
      "text/plain": [
       "((26800,), (6700,), (16500,), (26800,), (6700,), (16500,))"
      ]
     },
     "execution_count": 12,
     "metadata": {},
     "output_type": "execute_result"
    }
   ],
   "source": [
    "X_train.shape, X_val.shape, X_test.shape, y_train.shape, y_val.shape, y_test.shape"
   ]
  },
  {
   "cell_type": "code",
   "execution_count": 13,
   "id": "4a3f1261",
   "metadata": {},
   "outputs": [
    {
     "data": {
      "text/plain": [
       "1    13400\n",
       "0    13400\n",
       "Name: sentiment, dtype: int64"
      ]
     },
     "execution_count": 13,
     "metadata": {},
     "output_type": "execute_result"
    }
   ],
   "source": [
    "y_train.value_counts()"
   ]
  },
  {
   "cell_type": "code",
   "execution_count": 14,
   "id": "7ba90e22",
   "metadata": {},
   "outputs": [
    {
     "data": {
      "text/plain": [
       "0    3350\n",
       "1    3350\n",
       "Name: sentiment, dtype: int64"
      ]
     },
     "execution_count": 14,
     "metadata": {},
     "output_type": "execute_result"
    }
   ],
   "source": [
    "y_val.value_counts()"
   ]
  },
  {
   "cell_type": "code",
   "execution_count": 15,
   "id": "500acdbe",
   "metadata": {},
   "outputs": [
    {
     "data": {
      "text/plain": [
       "0    8250\n",
       "1    8250\n",
       "Name: sentiment, dtype: int64"
      ]
     },
     "execution_count": 15,
     "metadata": {},
     "output_type": "execute_result"
    }
   ],
   "source": [
    "y_test.value_counts()"
   ]
  },
  {
   "cell_type": "markdown",
   "id": "97fd4127",
   "metadata": {},
   "source": [
    "## Bag of Words i TF-IDF vektorizacija"
   ]
  },
  {
   "cell_type": "code",
   "execution_count": 16,
   "id": "d2f3c25d",
   "metadata": {},
   "outputs": [],
   "source": [
    "# pomocne funkcije iz 01:\n",
    "def simple_tokenization(review):\n",
    "    tokens = nltk.tokenize.word_tokenize(review)\n",
    "    tokens_without_punctuation = [token for token in tokens if token not in string.punctuation]\n",
    "    return tokens_without_punctuation"
   ]
  },
  {
   "cell_type": "code",
   "execution_count": 17,
   "id": "c49fe78f",
   "metadata": {},
   "outputs": [],
   "source": [
    "def short_form_transform(text):\n",
    "    text=re.sub(\"isn't\", 'is not', text)\n",
    "    text=re.sub(\"aren't\", 'are not', text)\n",
    "    text=re.sub(\"he's\", 'he is', text)\n",
    "    text=re.sub(\"wasn't\", 'was not',text)\n",
    "    text=re.sub(\"there's\", 'there is',text)\n",
    "    text=re.sub(\"couldn't\",'could not',text)\n",
    "    text=re.sub(\"can't\", 'can not', text)\n",
    "    text=re.sub(\"won't\", 'will not',text)\n",
    "    text=re.sub(\"they're\", 'they are',text)\n",
    "    text=re.sub(\"she's\", 'she is',text)\n",
    "    text=re.sub(\"wouldn't\", 'would not',text)\n",
    "    text=re.sub(\"haven't\", 'have not',text)\n",
    "    text=re.sub(\"that's\", 'that is',text)\n",
    "    text=re.sub(\"you've\", 'you have',text)\n",
    "    text=re.sub(\"he's\", 'he is',text)\n",
    "    text=re.sub(\"what's\", 'what is',text)\n",
    "    text=re.sub(\"weren't\", 'were not',text)\n",
    "    text=re.sub(\"we're\", 'we are',text)\n",
    "    text=re.sub(\"hasn't\", 'has not',text)\n",
    "    text=re.sub('i’d','i would',text)\n",
    "    text=re.sub(\"you'd\",'you would',text)\n",
    "    text=re.sub(\"shouldn't\",'should not',text)\n",
    "    text=re.sub(\"let's\",'let us',text)\n",
    "    text=re.sub(\"i've\", 'i have', text)\n",
    "    text=re.sub(\"you've\", 'you have', text)\n",
    "    text=re.sub(\"we've\", 'we have', text)\n",
    "    text=re.sub(\"they've\",'they have',text)\n",
    "    text=re.sub(\"you'll\",'you will',text)\n",
    "    text=re.sub(\"i'm\",'i am',text)\n",
    "    text=re.sub(\"we've\",'we have',text)\n",
    "    text=re.sub(\"it's\",'it is',text)\n",
    "    text=re.sub(\"don't\",'do not',text)\n",
    "    text=re.sub(\"doesn't\", 'does not',text)\n",
    "    text=re.sub(\"didn't\", 'did not', text)\n",
    "    text=re.sub(\"hadn't\", 'had not', text)\n",
    "    text=re.sub(\"mightn't\", 'might not', text)\n",
    "    text=re.sub(\"mustn't\", 'must not', text)\n",
    "    text=re.sub(\"it's\",'it is',text)\n",
    "    return text"
   ]
  },
  {
   "cell_type": "code",
   "execution_count": 18,
   "id": "b9184e66",
   "metadata": {},
   "outputs": [],
   "source": [
    "# eliminacija html tagova\n",
    "def strip_html(review):\n",
    "    return re.sub('<[^<]+?>', '', review)\n",
    "\n",
    "# eliminacija url-ova\n",
    "def strip_url(review):\n",
    "    return re.sub(r'http\\S+', '', review)\n",
    "\n",
    "# c.g.i -> cgi, u.s.a -> usa\n",
    "def full_stop_abbrev_elim(review):\n",
    "    pattern = re.compile(r'\\b(?:[a-z]\\.){2,}', re.I)\n",
    "    review = pattern.sub(lambda m: m.group().replace('.',''), review)\n",
    "    return review\n",
    "\n",
    "def remove_stop_words(tokens):\n",
    "    stopwords_list = stopwords.words('english')\n",
    "    tokens_without_stop = [token.strip() for token in tokens if token.strip() not in stopwords_list]\n",
    "    return tokens_without_stop"
   ]
  },
  {
   "cell_type": "code",
   "execution_count": 19,
   "id": "8f090cc9",
   "metadata": {},
   "outputs": [],
   "source": [
    "def review_preprocessor(text):\n",
    "    text = text.lower()\n",
    "    text = short_form_transform(text)\n",
    "    text = strip_html(text)\n",
    "    text = strip_url(text)\n",
    "    text = full_stop_abbrev_elim(text)\n",
    "    return text"
   ]
  },
  {
   "cell_type": "code",
   "execution_count": 20,
   "id": "d49a2415",
   "metadata": {},
   "outputs": [],
   "source": [
    "# najmanje agresivan:\n",
    "# stemmer = nltk.stem.PorterStemmer(mode='NLTK_EXTENSIONS') # default mode (NLTK_EXTENSIONS) se pokazao kao najbolji\n",
    "# nesto agresivniji:\n",
    "# stemmer = nltk.stem.snowball.SnowballStemmer(language='english')\n",
    "# najagresivniji:\n",
    "# stemmer = nltk.stem.lancaster.LancasterStemmer()\n",
    "\n",
    "def review_tokenizer(stemming, text):\n",
    "    tokens = simple_tokenization(text)\n",
    "    tokens = remove_stop_words(tokens)\n",
    "            \n",
    "    stems = []\n",
    "        \n",
    "    for token in tokens:\n",
    "        \n",
    "        token_pattern = re.compile(r'\\b[^\\W\\d_]+\\b')\n",
    "        if not token_pattern.match(token) or len(token) <= 2:\n",
    "            continue\n",
    "        \n",
    "        stem = stemming.stem(token)\n",
    "        stems.append(stem)\n",
    "    return stems"
   ]
  },
  {
   "cell_type": "code",
   "execution_count": 21,
   "id": "e85c4e00",
   "metadata": {},
   "outputs": [],
   "source": [
    "def init_vectorizer(vect_type: str, preprocessor, tokenizer, min_df, max_df, norm='l2', smooth_idf=True, use_idf=True):\n",
    "    if type(vect_type) is not str:\n",
    "        raise TypeError(\"vect_type must be string!\")\n",
    "    if vect_type.lower() not in ['count', 'tf-idf']:\n",
    "        raise ValueError(\"Supported vectorization types: 'count', 'td-idf'!\")\n",
    "    \n",
    "    if vect_type.lower() == 'count':\n",
    "        return feature_extraction.text.CountVectorizer(preprocessor=preprocessor, tokenizer=tokenizer, min_df=min_df,\n",
    "                                                         max_df=max_df, token_pattern=None)\n",
    "    \n",
    "    if vect_type.lower() == 'tf-idf':\n",
    "        return feature_extraction.text.TfidfVectorizer(preprocessor=preprocessor, tokenizer=tokenizer, min_df=min_df,\n",
    "                                                        max_df=max_df, token_pattern=None,\n",
    "                                                        norm=norm, smooth_idf=smooth_idf, use_idf=use_idf)"
   ]
  },
  {
   "cell_type": "code",
   "execution_count": 22,
   "id": "188829d3",
   "metadata": {},
   "outputs": [],
   "source": [
    "review_tokenizer_snowball = partial(review_tokenizer, nltk.stem.snowball.SnowballStemmer(language='english') )\n",
    "vectorizer1 = init_vectorizer(vect_type='tf-idf', preprocessor=review_preprocessor, tokenizer=review_tokenizer_snowball,\n",
    "                                min_df=0.05, max_df=0.7)\n",
    "# min_df - hocemo da izbacimo jako retke reci\n",
    "# max_df - hocemo da izbacimo preceste reci (corpus-specific stopwords)"
   ]
  },
  {
   "cell_type": "code",
   "execution_count": 23,
   "id": "8e0b903b",
   "metadata": {},
   "outputs": [
    {
     "data": {
      "text/html": [
       "<style>#sk-container-id-1 {color: black;background-color: white;}#sk-container-id-1 pre{padding: 0;}#sk-container-id-1 div.sk-toggleable {background-color: white;}#sk-container-id-1 label.sk-toggleable__label {cursor: pointer;display: block;width: 100%;margin-bottom: 0;padding: 0.3em;box-sizing: border-box;text-align: center;}#sk-container-id-1 label.sk-toggleable__label-arrow:before {content: \"▸\";float: left;margin-right: 0.25em;color: #696969;}#sk-container-id-1 label.sk-toggleable__label-arrow:hover:before {color: black;}#sk-container-id-1 div.sk-estimator:hover label.sk-toggleable__label-arrow:before {color: black;}#sk-container-id-1 div.sk-toggleable__content {max-height: 0;max-width: 0;overflow: hidden;text-align: left;background-color: #f0f8ff;}#sk-container-id-1 div.sk-toggleable__content pre {margin: 0.2em;color: black;border-radius: 0.25em;background-color: #f0f8ff;}#sk-container-id-1 input.sk-toggleable__control:checked~div.sk-toggleable__content {max-height: 200px;max-width: 100%;overflow: auto;}#sk-container-id-1 input.sk-toggleable__control:checked~label.sk-toggleable__label-arrow:before {content: \"▾\";}#sk-container-id-1 div.sk-estimator input.sk-toggleable__control:checked~label.sk-toggleable__label {background-color: #d4ebff;}#sk-container-id-1 div.sk-label input.sk-toggleable__control:checked~label.sk-toggleable__label {background-color: #d4ebff;}#sk-container-id-1 input.sk-hidden--visually {border: 0;clip: rect(1px 1px 1px 1px);clip: rect(1px, 1px, 1px, 1px);height: 1px;margin: -1px;overflow: hidden;padding: 0;position: absolute;width: 1px;}#sk-container-id-1 div.sk-estimator {font-family: monospace;background-color: #f0f8ff;border: 1px dotted black;border-radius: 0.25em;box-sizing: border-box;margin-bottom: 0.5em;}#sk-container-id-1 div.sk-estimator:hover {background-color: #d4ebff;}#sk-container-id-1 div.sk-parallel-item::after {content: \"\";width: 100%;border-bottom: 1px solid gray;flex-grow: 1;}#sk-container-id-1 div.sk-label:hover label.sk-toggleable__label {background-color: #d4ebff;}#sk-container-id-1 div.sk-serial::before {content: \"\";position: absolute;border-left: 1px solid gray;box-sizing: border-box;top: 0;bottom: 0;left: 50%;z-index: 0;}#sk-container-id-1 div.sk-serial {display: flex;flex-direction: column;align-items: center;background-color: white;padding-right: 0.2em;padding-left: 0.2em;position: relative;}#sk-container-id-1 div.sk-item {position: relative;z-index: 1;}#sk-container-id-1 div.sk-parallel {display: flex;align-items: stretch;justify-content: center;background-color: white;position: relative;}#sk-container-id-1 div.sk-item::before, #sk-container-id-1 div.sk-parallel-item::before {content: \"\";position: absolute;border-left: 1px solid gray;box-sizing: border-box;top: 0;bottom: 0;left: 50%;z-index: -1;}#sk-container-id-1 div.sk-parallel-item {display: flex;flex-direction: column;z-index: 1;position: relative;background-color: white;}#sk-container-id-1 div.sk-parallel-item:first-child::after {align-self: flex-end;width: 50%;}#sk-container-id-1 div.sk-parallel-item:last-child::after {align-self: flex-start;width: 50%;}#sk-container-id-1 div.sk-parallel-item:only-child::after {width: 0;}#sk-container-id-1 div.sk-dashed-wrapped {border: 1px dashed gray;margin: 0 0.4em 0.5em 0.4em;box-sizing: border-box;padding-bottom: 0.4em;background-color: white;}#sk-container-id-1 div.sk-label label {font-family: monospace;font-weight: bold;display: inline-block;line-height: 1.2em;}#sk-container-id-1 div.sk-label-container {text-align: center;}#sk-container-id-1 div.sk-container {/* jupyter's `normalize.less` sets `[hidden] { display: none; }` but bootstrap.min.css set `[hidden] { display: none !important; }` so we also need the `!important` here to be able to override the default hidden behavior on the sphinx rendered scikit-learn.org. See: https://github.com/scikit-learn/scikit-learn/issues/21755 */display: inline-block !important;position: relative;}#sk-container-id-1 div.sk-text-repr-fallback {display: none;}</style><div id=\"sk-container-id-1\" class=\"sk-top-container\"><div class=\"sk-text-repr-fallback\"><pre>TfidfVectorizer(max_df=0.7, min_df=0.05,\n",
       "                preprocessor=&lt;function review_preprocessor at 0x0000023D3D440670&gt;,\n",
       "                token_pattern=None,\n",
       "                tokenizer=functools.partial(&lt;function review_tokenizer at 0x0000023D3D440AF0&gt;, &lt;nltk.stem.snowball.SnowballStemmer object at 0x0000023D3D3FBEE0&gt;))</pre><b>In a Jupyter environment, please rerun this cell to show the HTML representation or trust the notebook. <br />On GitHub, the HTML representation is unable to render, please try loading this page with nbviewer.org.</b></div><div class=\"sk-container\" hidden><div class=\"sk-item\"><div class=\"sk-estimator sk-toggleable\"><input class=\"sk-toggleable__control sk-hidden--visually\" id=\"sk-estimator-id-1\" type=\"checkbox\" checked><label for=\"sk-estimator-id-1\" class=\"sk-toggleable__label sk-toggleable__label-arrow\">TfidfVectorizer</label><div class=\"sk-toggleable__content\"><pre>TfidfVectorizer(max_df=0.7, min_df=0.05,\n",
       "                preprocessor=&lt;function review_preprocessor at 0x0000023D3D440670&gt;,\n",
       "                token_pattern=None,\n",
       "                tokenizer=functools.partial(&lt;function review_tokenizer at 0x0000023D3D440AF0&gt;, &lt;nltk.stem.snowball.SnowballStemmer object at 0x0000023D3D3FBEE0&gt;))</pre></div></div></div></div></div>"
      ],
      "text/plain": [
       "TfidfVectorizer(max_df=0.7, min_df=0.05,\n",
       "                preprocessor=<function review_preprocessor at 0x0000023D3D440670>,\n",
       "                token_pattern=None,\n",
       "                tokenizer=functools.partial(<function review_tokenizer at 0x0000023D3D440AF0>, <nltk.stem.snowball.SnowballStemmer object at 0x0000023D3D3FBEE0>))"
      ]
     },
     "execution_count": 23,
     "metadata": {},
     "output_type": "execute_result"
    }
   ],
   "source": [
    "vectorizer1.fit(X_train)"
   ]
  },
  {
   "cell_type": "code",
   "execution_count": 24,
   "id": "2c694f31",
   "metadata": {},
   "outputs": [
    {
     "data": {
      "text/plain": [
       "array(['absolut', 'act', 'action', 'actor', 'actual', 'almost', 'along',\n",
       "       'also', 'although', 'alway', 'amaz', 'american', 'anoth', 'anyon',\n",
       "       'anyth', 'appear', 'around', 'ask', 'attempt', 'audienc', 'aw',\n",
       "       'away', 'back', 'bad', 'base', 'beauti', 'becom', 'begin',\n",
       "       'believ', 'best', 'better', 'big', 'bit', 'black', 'book', 'bore',\n",
       "       'boy', 'bring', 'budget', 'call', 'came', 'camera', 'care', 'case',\n",
       "       'cast', 'certain', 'chang', 'charact', 'classic', 'clear', 'close',\n",
       "       'come', 'comedi', 'comment', 'complet', 'consid', 'could', 'coupl',\n",
       "       'cours', 'creat', 'dark', 'day', 'dead', 'death', 'decid',\n",
       "       'definit', 'dialogu', 'die', 'differ', 'direct', 'director',\n",
       "       'disappoint', 'done', 'dvd', 'earli', 'effect', 'either', 'els',\n",
       "       'emot', 'end', 'enjoy', 'enough', 'entertain', 'entir', 'episod',\n",
       "       'especi', 'even', 'ever', 'everi', 'everyon', 'everyth', 'exampl',\n",
       "       'excel', 'except', 'expect', 'experi', 'extrem', 'eye', 'face',\n",
       "       'fact', 'fall', 'famili', 'fan', 'far', 'father', 'featur', 'feel',\n",
       "       'fight', 'film', 'final', 'find', 'first', 'flick', 'follow',\n",
       "       'forc', 'found', 'friend', 'full', 'fun', 'funni', 'get', 'girl',\n",
       "       'give', 'given', 'go', 'goe', 'good', 'got', 'great', 'guess',\n",
       "       'guy', 'half', 'hand', 'happen', 'hard', 'head', 'help', 'high',\n",
       "       'hollywood', 'home', 'hope', 'horror', 'hour', 'hous', 'howev',\n",
       "       'human', 'humor', 'idea', 'imagin', 'impress', 'includ', 'instead',\n",
       "       'interest', 'involv', 'job', 'john', 'keep', 'kid', 'kill', 'kind',\n",
       "       'know', 'lack', 'last', 'later', 'laugh', 'lead', 'least', 'leav',\n",
       "       'left', 'less', 'let', 'life', 'like', 'line', 'littl', 'live',\n",
       "       'long', 'look', 'lot', 'love', 'made', 'main', 'make', 'man',\n",
       "       'manag', 'mani', 'matter', 'may', 'mayb', 'mean', 'meet', 'men',\n",
       "       'mention', 'might', 'mind', 'minut', 'miss', 'moment', 'money',\n",
       "       'move', 'movi', 'much', 'murder', 'music', 'must', 'name', 'near',\n",
       "       'need', 'never', 'new', 'next', 'nice', 'night', 'noth', 'obvious',\n",
       "       'often', 'old', 'one', 'open', 'origin', 'other', 'part',\n",
       "       'particular', 'peopl', 'perfect', 'perform', 'perhap', 'person',\n",
       "       'pictur', 'piec', 'place', 'play', 'plot', 'point', 'poor',\n",
       "       'portray', 'possibl', 'power', 'pretti', 'probabl', 'problem',\n",
       "       'produc', 'product', 'put', 'quit', 'rate', 'rather', 'read',\n",
       "       'real', 'realli', 'reason', 'recommend', 'releas', 'rememb',\n",
       "       'rest', 'review', 'right', 'role', 'run', 'sad', 'said', 'save',\n",
       "       'saw', 'say', 'scene', 'school', 'screen', 'script', 'second',\n",
       "       'see', 'seem', 'seen', 'sens', 'seri', 'serious', 'set', 'sever',\n",
       "       'short', 'shot', 'show', 'simpli', 'sinc', 'small', 'someon',\n",
       "       'someth', 'sort', 'sound', 'special', 'star', 'start', 'still',\n",
       "       'stop', 'stori', 'stupid', 'style', 'suppos', 'sure', 'surpris',\n",
       "       'take', 'talent', 'talk', 'tell', 'terribl', 'thing', 'think',\n",
       "       'though', 'thought', 'three', 'time', 'titl', 'togeth', 'top',\n",
       "       'total', 'tri', 'true', 'truli', 'turn', 'two', 'understand',\n",
       "       'unfortun', 'use', 'usual', 'version', 'video', 'view', 'viewer',\n",
       "       'want', 'war', 'wast', 'watch', 'way', 'well', 'went', 'whole',\n",
       "       'wife', 'without', 'woman', 'women', 'wonder', 'word', 'work',\n",
       "       'world', 'worst', 'worth', 'would', 'write', 'written', 'wrong',\n",
       "       'year', 'yet', 'young'], dtype=object)"
      ]
     },
     "execution_count": 24,
     "metadata": {},
     "output_type": "execute_result"
    }
   ],
   "source": [
    "# sve reci u vokabularu\n",
    "vectorizer1.get_feature_names_out()"
   ]
  },
  {
   "cell_type": "code",
   "execution_count": 25,
   "id": "e19676e1",
   "metadata": {},
   "outputs": [],
   "source": [
    "X_train_vectorized = vectorizer1.transform(X_train)\n",
    "X_val_vectorized = vectorizer1.transform(X_val)"
   ]
  },
  {
   "cell_type": "code",
   "execution_count": 26,
   "id": "29844934",
   "metadata": {},
   "outputs": [
    {
     "data": {
      "text/plain": [
       "((26800, 351), (6700, 351))"
      ]
     },
     "execution_count": 26,
     "metadata": {},
     "output_type": "execute_result"
    }
   ],
   "source": [
    "X_train_vectorized.shape, X_val_vectorized.shape"
   ]
  },
  {
   "cell_type": "markdown",
   "id": "dbfe0b1f",
   "metadata": {},
   "source": [
    "### Logisticka regresija"
   ]
  },
  {
   "cell_type": "code",
   "execution_count": 27,
   "id": "9d411266",
   "metadata": {},
   "outputs": [
    {
     "name": "stdout",
     "output_type": "stream",
     "text": [
      "Najbolja vrednost regularizacionog hiperparametra: 1.0\n",
      "Najbolja norma regularizacije: elasticnet\n",
      "Najbolji l1_ratio: 0.4\n",
      "Najbolji skor: 0.8365671641791045\n"
     ]
    }
   ],
   "source": [
    "Cs = np.array([10**i for i in range(-5,5)])\n",
    "penalties = np.array(['l1', 'l2', 'elasticnet'])\n",
    "l1_ratios = np.array([0.1 * i for i in range(1, 10)])\n",
    "\n",
    "best_score = float('-inf')\n",
    "best_C = None\n",
    "best_penalty = None\n",
    "best_l1_ratio = None\n",
    "\n",
    "for C in Cs:\n",
    "    for penalty in penalties:\n",
    "        \n",
    "        if penalty == 'l2': \n",
    "            model = linear_model.LogisticRegression(C=C, max_iter=500, penalty=penalty, solver='lbfgs')\n",
    "            model.fit(X_train_vectorized, y_train)\n",
    "        \n",
    "            score = metrics.accuracy_score(y_val, model.predict(X_val_vectorized))\n",
    "            # print(f'C: {C} penalty: {penalty} - score: {score}')\n",
    "            if score > best_score:\n",
    "                best_score = score\n",
    "                best_C = C\n",
    "                best_penalty = penalty\n",
    "        \n",
    "        if penalty == 'l1': \n",
    "                                                                                     # 'lbfgs' ne podrzava\n",
    "            model = linear_model.LogisticRegression(C=C, max_iter=500, penalty=penalty, solver='liblinear')\n",
    "            model.fit(X_train_vectorized, y_train)\n",
    "        \n",
    "            score = metrics.accuracy_score(y_val, model.predict(X_val_vectorized))\n",
    "            # print(f'C: {C} penalty: {penalty} - score: {score}')\n",
    "            if score > best_score:\n",
    "                best_score = score\n",
    "                best_C = C\n",
    "                best_penalty = penalty   \n",
    "        \n",
    "        \n",
    "        if penalty == 'elasticnet':\n",
    "            \n",
    "            for l1_ratio in l1_ratios:\n",
    "                                                                                     # 'lbfgs' ne podrzava\n",
    "                model = linear_model.LogisticRegression(C=C, max_iter=500, penalty=penalty, solver='saga', l1_ratio=l1_ratio)\n",
    "                model.fit(X_train_vectorized, y_train)\n",
    "        \n",
    "                score = metrics.accuracy_score(y_val, model.predict(X_val_vectorized))\n",
    "                # print(f'C: {C} penalty: {penalty} l1_ratio: {l1_ratio} - score: {score}')\n",
    "                if score > best_score:\n",
    "                    best_score = score\n",
    "                    best_C = C\n",
    "                    best_penalty = penalty \n",
    "                    best_l1_ratio = l1_ratio\n",
    "                    \n",
    "# print(\"----------------------------------------------------------------------------------------------\")\n",
    "if best_penalty == 'elasticnet':\n",
    "    print(f'Najbolja vrednost regularizacionog hiperparametra: {best_C}\\nNajbolja norma regularizacije: {best_penalty}')\n",
    "    print(f'Najbolji l1_ratio: {best_l1_ratio}\\nNajbolji skor: {best_score}')\n",
    "else:\n",
    "    print(f'Najbolja vrednost regularizacionog hiperparametra: {best_C}\\nNajbolja norma regularizacije: {best_penalty}')\n",
    "    print(f'Najbolji skor: {best_score}')"
   ]
  },
  {
   "cell_type": "code",
   "execution_count": 28,
   "id": "30a01931",
   "metadata": {},
   "outputs": [],
   "source": [
    "vectorizer2 = init_vectorizer(vect_type='tf-idf', preprocessor=review_preprocessor, tokenizer=review_tokenizer_snowball,\n",
    "                                min_df=0.05, max_df=0.7)"
   ]
  },
  {
   "cell_type": "code",
   "execution_count": 29,
   "id": "b20aa450",
   "metadata": {},
   "outputs": [
    {
     "data": {
      "text/html": [
       "<style>#sk-container-id-2 {color: black;background-color: white;}#sk-container-id-2 pre{padding: 0;}#sk-container-id-2 div.sk-toggleable {background-color: white;}#sk-container-id-2 label.sk-toggleable__label {cursor: pointer;display: block;width: 100%;margin-bottom: 0;padding: 0.3em;box-sizing: border-box;text-align: center;}#sk-container-id-2 label.sk-toggleable__label-arrow:before {content: \"▸\";float: left;margin-right: 0.25em;color: #696969;}#sk-container-id-2 label.sk-toggleable__label-arrow:hover:before {color: black;}#sk-container-id-2 div.sk-estimator:hover label.sk-toggleable__label-arrow:before {color: black;}#sk-container-id-2 div.sk-toggleable__content {max-height: 0;max-width: 0;overflow: hidden;text-align: left;background-color: #f0f8ff;}#sk-container-id-2 div.sk-toggleable__content pre {margin: 0.2em;color: black;border-radius: 0.25em;background-color: #f0f8ff;}#sk-container-id-2 input.sk-toggleable__control:checked~div.sk-toggleable__content {max-height: 200px;max-width: 100%;overflow: auto;}#sk-container-id-2 input.sk-toggleable__control:checked~label.sk-toggleable__label-arrow:before {content: \"▾\";}#sk-container-id-2 div.sk-estimator input.sk-toggleable__control:checked~label.sk-toggleable__label {background-color: #d4ebff;}#sk-container-id-2 div.sk-label input.sk-toggleable__control:checked~label.sk-toggleable__label {background-color: #d4ebff;}#sk-container-id-2 input.sk-hidden--visually {border: 0;clip: rect(1px 1px 1px 1px);clip: rect(1px, 1px, 1px, 1px);height: 1px;margin: -1px;overflow: hidden;padding: 0;position: absolute;width: 1px;}#sk-container-id-2 div.sk-estimator {font-family: monospace;background-color: #f0f8ff;border: 1px dotted black;border-radius: 0.25em;box-sizing: border-box;margin-bottom: 0.5em;}#sk-container-id-2 div.sk-estimator:hover {background-color: #d4ebff;}#sk-container-id-2 div.sk-parallel-item::after {content: \"\";width: 100%;border-bottom: 1px solid gray;flex-grow: 1;}#sk-container-id-2 div.sk-label:hover label.sk-toggleable__label {background-color: #d4ebff;}#sk-container-id-2 div.sk-serial::before {content: \"\";position: absolute;border-left: 1px solid gray;box-sizing: border-box;top: 0;bottom: 0;left: 50%;z-index: 0;}#sk-container-id-2 div.sk-serial {display: flex;flex-direction: column;align-items: center;background-color: white;padding-right: 0.2em;padding-left: 0.2em;position: relative;}#sk-container-id-2 div.sk-item {position: relative;z-index: 1;}#sk-container-id-2 div.sk-parallel {display: flex;align-items: stretch;justify-content: center;background-color: white;position: relative;}#sk-container-id-2 div.sk-item::before, #sk-container-id-2 div.sk-parallel-item::before {content: \"\";position: absolute;border-left: 1px solid gray;box-sizing: border-box;top: 0;bottom: 0;left: 50%;z-index: -1;}#sk-container-id-2 div.sk-parallel-item {display: flex;flex-direction: column;z-index: 1;position: relative;background-color: white;}#sk-container-id-2 div.sk-parallel-item:first-child::after {align-self: flex-end;width: 50%;}#sk-container-id-2 div.sk-parallel-item:last-child::after {align-self: flex-start;width: 50%;}#sk-container-id-2 div.sk-parallel-item:only-child::after {width: 0;}#sk-container-id-2 div.sk-dashed-wrapped {border: 1px dashed gray;margin: 0 0.4em 0.5em 0.4em;box-sizing: border-box;padding-bottom: 0.4em;background-color: white;}#sk-container-id-2 div.sk-label label {font-family: monospace;font-weight: bold;display: inline-block;line-height: 1.2em;}#sk-container-id-2 div.sk-label-container {text-align: center;}#sk-container-id-2 div.sk-container {/* jupyter's `normalize.less` sets `[hidden] { display: none; }` but bootstrap.min.css set `[hidden] { display: none !important; }` so we also need the `!important` here to be able to override the default hidden behavior on the sphinx rendered scikit-learn.org. See: https://github.com/scikit-learn/scikit-learn/issues/21755 */display: inline-block !important;position: relative;}#sk-container-id-2 div.sk-text-repr-fallback {display: none;}</style><div id=\"sk-container-id-2\" class=\"sk-top-container\"><div class=\"sk-text-repr-fallback\"><pre>TfidfVectorizer(max_df=0.7, min_df=0.05,\n",
       "                preprocessor=&lt;function review_preprocessor at 0x0000023D3D440670&gt;,\n",
       "                token_pattern=None,\n",
       "                tokenizer=functools.partial(&lt;function review_tokenizer at 0x0000023D3D440AF0&gt;, &lt;nltk.stem.snowball.SnowballStemmer object at 0x0000023D3D3FBEE0&gt;))</pre><b>In a Jupyter environment, please rerun this cell to show the HTML representation or trust the notebook. <br />On GitHub, the HTML representation is unable to render, please try loading this page with nbviewer.org.</b></div><div class=\"sk-container\" hidden><div class=\"sk-item\"><div class=\"sk-estimator sk-toggleable\"><input class=\"sk-toggleable__control sk-hidden--visually\" id=\"sk-estimator-id-2\" type=\"checkbox\" checked><label for=\"sk-estimator-id-2\" class=\"sk-toggleable__label sk-toggleable__label-arrow\">TfidfVectorizer</label><div class=\"sk-toggleable__content\"><pre>TfidfVectorizer(max_df=0.7, min_df=0.05,\n",
       "                preprocessor=&lt;function review_preprocessor at 0x0000023D3D440670&gt;,\n",
       "                token_pattern=None,\n",
       "                tokenizer=functools.partial(&lt;function review_tokenizer at 0x0000023D3D440AF0&gt;, &lt;nltk.stem.snowball.SnowballStemmer object at 0x0000023D3D3FBEE0&gt;))</pre></div></div></div></div></div>"
      ],
      "text/plain": [
       "TfidfVectorizer(max_df=0.7, min_df=0.05,\n",
       "                preprocessor=<function review_preprocessor at 0x0000023D3D440670>,\n",
       "                token_pattern=None,\n",
       "                tokenizer=functools.partial(<function review_tokenizer at 0x0000023D3D440AF0>, <nltk.stem.snowball.SnowballStemmer object at 0x0000023D3D3FBEE0>))"
      ]
     },
     "execution_count": 29,
     "metadata": {},
     "output_type": "execute_result"
    }
   ],
   "source": [
    "vectorizer2.fit(X_train_val)"
   ]
  },
  {
   "cell_type": "code",
   "execution_count": 30,
   "id": "acdcb029",
   "metadata": {},
   "outputs": [],
   "source": [
    "X_train_val_vec = vectorizer2.transform(X_train_val)\n",
    "X_test_vec = vectorizer2.transform(X_test)"
   ]
  },
  {
   "cell_type": "code",
   "execution_count": 31,
   "id": "be97572e",
   "metadata": {},
   "outputs": [
    {
     "data": {
      "text/plain": [
       "((33500, 353), (16500, 353))"
      ]
     },
     "execution_count": 31,
     "metadata": {},
     "output_type": "execute_result"
    }
   ],
   "source": [
    "X_train_val_vec.shape, X_test_vec.shape"
   ]
  },
  {
   "cell_type": "code",
   "execution_count": 32,
   "id": "96fa674c",
   "metadata": {},
   "outputs": [],
   "source": [
    "final_lr_model = None\n",
    "if best_penalty == 'l2':\n",
    "    final_lr_model = linear_model.LogisticRegression(C=best_C, max_iter=500, penalty=best_penalty, solver='lbfgs')\n",
    "if best_penalty == 'l1':\n",
    "    final_lr_model = linear_model.LogisticRegression(C=best_C, max_iter=500, penalty=best_penalty, solver='liblinear')\n",
    "if best_penalty == 'elasticnet':\n",
    "    final_lr_model = linear_model.LogisticRegression(C=best_C, max_iter=500, penalty=best_penalty,\n",
    "                                                     solver='saga', l1_ratio=best_l1_ratio)"
   ]
  },
  {
   "cell_type": "code",
   "execution_count": 33,
   "id": "a8cb614a",
   "metadata": {},
   "outputs": [
    {
     "data": {
      "text/html": [
       "<style>#sk-container-id-3 {color: black;background-color: white;}#sk-container-id-3 pre{padding: 0;}#sk-container-id-3 div.sk-toggleable {background-color: white;}#sk-container-id-3 label.sk-toggleable__label {cursor: pointer;display: block;width: 100%;margin-bottom: 0;padding: 0.3em;box-sizing: border-box;text-align: center;}#sk-container-id-3 label.sk-toggleable__label-arrow:before {content: \"▸\";float: left;margin-right: 0.25em;color: #696969;}#sk-container-id-3 label.sk-toggleable__label-arrow:hover:before {color: black;}#sk-container-id-3 div.sk-estimator:hover label.sk-toggleable__label-arrow:before {color: black;}#sk-container-id-3 div.sk-toggleable__content {max-height: 0;max-width: 0;overflow: hidden;text-align: left;background-color: #f0f8ff;}#sk-container-id-3 div.sk-toggleable__content pre {margin: 0.2em;color: black;border-radius: 0.25em;background-color: #f0f8ff;}#sk-container-id-3 input.sk-toggleable__control:checked~div.sk-toggleable__content {max-height: 200px;max-width: 100%;overflow: auto;}#sk-container-id-3 input.sk-toggleable__control:checked~label.sk-toggleable__label-arrow:before {content: \"▾\";}#sk-container-id-3 div.sk-estimator input.sk-toggleable__control:checked~label.sk-toggleable__label {background-color: #d4ebff;}#sk-container-id-3 div.sk-label input.sk-toggleable__control:checked~label.sk-toggleable__label {background-color: #d4ebff;}#sk-container-id-3 input.sk-hidden--visually {border: 0;clip: rect(1px 1px 1px 1px);clip: rect(1px, 1px, 1px, 1px);height: 1px;margin: -1px;overflow: hidden;padding: 0;position: absolute;width: 1px;}#sk-container-id-3 div.sk-estimator {font-family: monospace;background-color: #f0f8ff;border: 1px dotted black;border-radius: 0.25em;box-sizing: border-box;margin-bottom: 0.5em;}#sk-container-id-3 div.sk-estimator:hover {background-color: #d4ebff;}#sk-container-id-3 div.sk-parallel-item::after {content: \"\";width: 100%;border-bottom: 1px solid gray;flex-grow: 1;}#sk-container-id-3 div.sk-label:hover label.sk-toggleable__label {background-color: #d4ebff;}#sk-container-id-3 div.sk-serial::before {content: \"\";position: absolute;border-left: 1px solid gray;box-sizing: border-box;top: 0;bottom: 0;left: 50%;z-index: 0;}#sk-container-id-3 div.sk-serial {display: flex;flex-direction: column;align-items: center;background-color: white;padding-right: 0.2em;padding-left: 0.2em;position: relative;}#sk-container-id-3 div.sk-item {position: relative;z-index: 1;}#sk-container-id-3 div.sk-parallel {display: flex;align-items: stretch;justify-content: center;background-color: white;position: relative;}#sk-container-id-3 div.sk-item::before, #sk-container-id-3 div.sk-parallel-item::before {content: \"\";position: absolute;border-left: 1px solid gray;box-sizing: border-box;top: 0;bottom: 0;left: 50%;z-index: -1;}#sk-container-id-3 div.sk-parallel-item {display: flex;flex-direction: column;z-index: 1;position: relative;background-color: white;}#sk-container-id-3 div.sk-parallel-item:first-child::after {align-self: flex-end;width: 50%;}#sk-container-id-3 div.sk-parallel-item:last-child::after {align-self: flex-start;width: 50%;}#sk-container-id-3 div.sk-parallel-item:only-child::after {width: 0;}#sk-container-id-3 div.sk-dashed-wrapped {border: 1px dashed gray;margin: 0 0.4em 0.5em 0.4em;box-sizing: border-box;padding-bottom: 0.4em;background-color: white;}#sk-container-id-3 div.sk-label label {font-family: monospace;font-weight: bold;display: inline-block;line-height: 1.2em;}#sk-container-id-3 div.sk-label-container {text-align: center;}#sk-container-id-3 div.sk-container {/* jupyter's `normalize.less` sets `[hidden] { display: none; }` but bootstrap.min.css set `[hidden] { display: none !important; }` so we also need the `!important` here to be able to override the default hidden behavior on the sphinx rendered scikit-learn.org. See: https://github.com/scikit-learn/scikit-learn/issues/21755 */display: inline-block !important;position: relative;}#sk-container-id-3 div.sk-text-repr-fallback {display: none;}</style><div id=\"sk-container-id-3\" class=\"sk-top-container\"><div class=\"sk-text-repr-fallback\"><pre>LogisticRegression(l1_ratio=0.4, max_iter=500, penalty=&#x27;elasticnet&#x27;,\n",
       "                   solver=&#x27;saga&#x27;)</pre><b>In a Jupyter environment, please rerun this cell to show the HTML representation or trust the notebook. <br />On GitHub, the HTML representation is unable to render, please try loading this page with nbviewer.org.</b></div><div class=\"sk-container\" hidden><div class=\"sk-item\"><div class=\"sk-estimator sk-toggleable\"><input class=\"sk-toggleable__control sk-hidden--visually\" id=\"sk-estimator-id-3\" type=\"checkbox\" checked><label for=\"sk-estimator-id-3\" class=\"sk-toggleable__label sk-toggleable__label-arrow\">LogisticRegression</label><div class=\"sk-toggleable__content\"><pre>LogisticRegression(l1_ratio=0.4, max_iter=500, penalty=&#x27;elasticnet&#x27;,\n",
       "                   solver=&#x27;saga&#x27;)</pre></div></div></div></div></div>"
      ],
      "text/plain": [
       "LogisticRegression(l1_ratio=0.4, max_iter=500, penalty='elasticnet',\n",
       "                   solver='saga')"
      ]
     },
     "execution_count": 33,
     "metadata": {},
     "output_type": "execute_result"
    }
   ],
   "source": [
    "final_lr_model.fit(X_train_val_vec, y_train_val)"
   ]
  },
  {
   "cell_type": "code",
   "execution_count": 34,
   "id": "2343d811",
   "metadata": {},
   "outputs": [
    {
     "name": "stdout",
     "output_type": "stream",
     "text": [
      "0.8402089552238806\n"
     ]
    }
   ],
   "source": [
    "lr_train_score = final_lr_model.score(X_train_val_vec, y_train_val)\n",
    "print(lr_train_score)"
   ]
  },
  {
   "cell_type": "code",
   "execution_count": 35,
   "id": "dc919390",
   "metadata": {},
   "outputs": [
    {
     "name": "stdout",
     "output_type": "stream",
     "text": [
      "0.8350909090909091\n"
     ]
    }
   ],
   "source": [
    "lr_test_score = final_lr_model.score(X_test_vec, y_test)\n",
    "print(lr_test_score)"
   ]
  },
  {
   "cell_type": "code",
   "execution_count": 36,
   "id": "1f989442",
   "metadata": {},
   "outputs": [],
   "source": [
    "y_test_predicted = final_lr_model.predict(X_test_vec)"
   ]
  },
  {
   "cell_type": "code",
   "execution_count": 37,
   "id": "da8e5f34",
   "metadata": {},
   "outputs": [
    {
     "name": "stdout",
     "output_type": "stream",
     "text": [
      "              precision    recall  f1-score   support\n",
      "\n",
      "           0       0.84      0.82      0.83      8250\n",
      "           1       0.83      0.85      0.84      8250\n",
      "\n",
      "    accuracy                           0.84     16500\n",
      "   macro avg       0.84      0.84      0.84     16500\n",
      "weighted avg       0.84      0.84      0.84     16500\n",
      "\n"
     ]
    }
   ],
   "source": [
    "print(metrics.classification_report(y_test, y_test_predicted))"
   ]
  },
  {
   "cell_type": "code",
   "execution_count": 38,
   "id": "753d8d7b",
   "metadata": {
    "scrolled": false
   },
   "outputs": [
    {
     "data": {
      "image/png": "[encoded data removed]",
      "text/plain": [
       "<Figure size 640x480 with 2 Axes>"
      ]
     },
     "metadata": {},
     "output_type": "display_data"
    }
   ],
   "source": [
    "confusion_matrix = metrics.confusion_matrix(y_test, y_test_predicted)\n",
    "cm_display = metrics.ConfusionMatrixDisplay(confusion_matrix = confusion_matrix)\n",
    "cm_display.plot()\n",
    "plt.show()"
   ]
  },
  {
   "cell_type": "code",
   "execution_count": 103,
   "id": "134e0231",
   "metadata": {},
   "outputs": [
    {
     "data": {
      "image/png": "[encoded data removed]",
      "text/plain": [
       "<Figure size 1400x1000 with 1 Axes>"
      ]
     },
     "metadata": {},
     "output_type": "display_data"
    }
   ],
   "source": [
    "coefs = final_lr_model.coef_.reshape(-1)\n",
    "\n",
    "pos_coeff_indices = np.argsort(coefs)[-20:]\n",
    "neg_coeff_indices = np.argsort(coefs)[:20]\n",
    "    \n",
    "indices = np.hstack((neg_coeff_indices, pos_coeff_indices))\n",
    "    \n",
    "plt.figure(figsize=(14,10))\n",
    "plt.title('Najznacajnije reci sa pridruzenim koeficijentima')\n",
    "colors = ['red' if c < 0 else 'green' for c in coefs[indices]]\n",
    "plt.barh(y=np.arange(40), width=coefs[indices], color=colors)\n",
    "\n",
    "plt.yticks(ticks=np.arange(40), labels=np.array(vectorizer2.get_feature_names_out())[indices])\n",
    "\n",
    "\n",
    "for index, value in enumerate(coefs[indices]):\n",
    "    plt.text(value, index, \"{:.2f}\".format(value))\n",
    "plt.show()"
   ]
  },
  {
   "cell_type": "markdown",
   "id": "a5ade98f",
   "metadata": {},
   "source": [
    "### Kernelizovani SVM"
   ]
  },
  {
   "cell_type": "code",
   "execution_count": 60,
   "id": "3507c584",
   "metadata": {},
   "outputs": [
    {
     "data": {
      "text/plain": [
       "((26800, 351), (6700, 351))"
      ]
     },
     "execution_count": 60,
     "metadata": {},
     "output_type": "execute_result"
    }
   ],
   "source": [
    "X_train_vectorized.shape, X_val_vectorized.shape"
   ]
  },
  {
   "cell_type": "code",
   "execution_count": 61,
   "id": "8995aafc",
   "metadata": {},
   "outputs": [
    {
     "name": "stdout",
     "output_type": "stream",
     "text": [
      "Najbolja vrednost regularizacionog hiperparametra: 1.0\n",
      "Najbolji tip kernela: rbf\n",
      "Najbolji koeficijent kernela: scale\n",
      "Najbolji skor: 0.8417910447761194\n"
     ]
    }
   ],
   "source": [
    "Cs = np.array([10**i for i in range(-3, 3)])\n",
    "# scale - 1 / (n_features * X.var())\n",
    "# auto - 1/ n_features\n",
    "gammas = ['scale', 'auto']\n",
    "kernels = ['linear', 'rbf', 'sigmoid']\n",
    "\n",
    "best_score = float('-inf')\n",
    "best_params = {'C': None, 'gamma': None, 'kernel': None}\n",
    "\n",
    "for C in Cs:\n",
    "    for gamma in gammas:\n",
    "        for kernel in kernels:\n",
    "            model = svm.SVC(C=C, gamma=gamma, kernel=kernel)\n",
    "            \n",
    "            model.fit(X_train_vectorized, y_train)\n",
    "            score = metrics.accuracy_score(y_val, model.predict(X_val_vectorized))                        \n",
    "            # print(f'C: {C} gamma: {gamma} kernel: {kernel} - score: {score}')\n",
    "            if score > best_score:\n",
    "                best_score = score\n",
    "                best_params['C'] = C\n",
    "                best_params['gamma'] = gamma\n",
    "                best_params['kernel'] = kernel\n",
    "\n",
    "\n",
    "# print('------------------------------------------------------------------------')\n",
    "print(f\"Najbolja vrednost regularizacionog hiperparametra: {best_params['C']}\")\n",
    "print(f\"Najbolji tip kernela: {best_params['kernel']}\")\n",
    "\n",
    "if best_params['kernel'] != 'linear':\n",
    "    print(f\"Najbolji koeficijent kernela: {best_params['gamma']}\")\n",
    "\n",
    "print(f'Najbolji skor: {best_score}')"
   ]
  },
  {
   "cell_type": "code",
   "execution_count": 62,
   "id": "dcd478a9",
   "metadata": {},
   "outputs": [
    {
     "data": {
      "text/plain": [
       "((33500, 353), (16500, 353))"
      ]
     },
     "execution_count": 62,
     "metadata": {},
     "output_type": "execute_result"
    }
   ],
   "source": [
    "X_train_val_vec.shape, X_test_vec.shape"
   ]
  },
  {
   "cell_type": "code",
   "execution_count": 63,
   "id": "a2f86605",
   "metadata": {},
   "outputs": [],
   "source": [
    "final_svm_model = None\n",
    "if best_params['kernel'] == 'linear':\n",
    "    final_svm_model = svm.SVC(C=best_params['C'], kernel=best_params['kernel'])\n",
    "else:\n",
    "    final_svm_model = svm.SVC(C=best_params['C'], gamma=best_params['gamma'], kernel=best_params['kernel'])"
   ]
  },
  {
   "cell_type": "code",
   "execution_count": 64,
   "id": "c9844ed7",
   "metadata": {},
   "outputs": [
    {
     "data": {
      "text/html": [
       "<style>#sk-container-id-6 {color: black;background-color: white;}#sk-container-id-6 pre{padding: 0;}#sk-container-id-6 div.sk-toggleable {background-color: white;}#sk-container-id-6 label.sk-toggleable__label {cursor: pointer;display: block;width: 100%;margin-bottom: 0;padding: 0.3em;box-sizing: border-box;text-align: center;}#sk-container-id-6 label.sk-toggleable__label-arrow:before {content: \"▸\";float: left;margin-right: 0.25em;color: #696969;}#sk-container-id-6 label.sk-toggleable__label-arrow:hover:before {color: black;}#sk-container-id-6 div.sk-estimator:hover label.sk-toggleable__label-arrow:before {color: black;}#sk-container-id-6 div.sk-toggleable__content {max-height: 0;max-width: 0;overflow: hidden;text-align: left;background-color: #f0f8ff;}#sk-container-id-6 div.sk-toggleable__content pre {margin: 0.2em;color: black;border-radius: 0.25em;background-color: #f0f8ff;}#sk-container-id-6 input.sk-toggleable__control:checked~div.sk-toggleable__content {max-height: 200px;max-width: 100%;overflow: auto;}#sk-container-id-6 input.sk-toggleable__control:checked~label.sk-toggleable__label-arrow:before {content: \"▾\";}#sk-container-id-6 div.sk-estimator input.sk-toggleable__control:checked~label.sk-toggleable__label {background-color: #d4ebff;}#sk-container-id-6 div.sk-label input.sk-toggleable__control:checked~label.sk-toggleable__label {background-color: #d4ebff;}#sk-container-id-6 input.sk-hidden--visually {border: 0;clip: rect(1px 1px 1px 1px);clip: rect(1px, 1px, 1px, 1px);height: 1px;margin: -1px;overflow: hidden;padding: 0;position: absolute;width: 1px;}#sk-container-id-6 div.sk-estimator {font-family: monospace;background-color: #f0f8ff;border: 1px dotted black;border-radius: 0.25em;box-sizing: border-box;margin-bottom: 0.5em;}#sk-container-id-6 div.sk-estimator:hover {background-color: #d4ebff;}#sk-container-id-6 div.sk-parallel-item::after {content: \"\";width: 100%;border-bottom: 1px solid gray;flex-grow: 1;}#sk-container-id-6 div.sk-label:hover label.sk-toggleable__label {background-color: #d4ebff;}#sk-container-id-6 div.sk-serial::before {content: \"\";position: absolute;border-left: 1px solid gray;box-sizing: border-box;top: 0;bottom: 0;left: 50%;z-index: 0;}#sk-container-id-6 div.sk-serial {display: flex;flex-direction: column;align-items: center;background-color: white;padding-right: 0.2em;padding-left: 0.2em;position: relative;}#sk-container-id-6 div.sk-item {position: relative;z-index: 1;}#sk-container-id-6 div.sk-parallel {display: flex;align-items: stretch;justify-content: center;background-color: white;position: relative;}#sk-container-id-6 div.sk-item::before, #sk-container-id-6 div.sk-parallel-item::before {content: \"\";position: absolute;border-left: 1px solid gray;box-sizing: border-box;top: 0;bottom: 0;left: 50%;z-index: -1;}#sk-container-id-6 div.sk-parallel-item {display: flex;flex-direction: column;z-index: 1;position: relative;background-color: white;}#sk-container-id-6 div.sk-parallel-item:first-child::after {align-self: flex-end;width: 50%;}#sk-container-id-6 div.sk-parallel-item:last-child::after {align-self: flex-start;width: 50%;}#sk-container-id-6 div.sk-parallel-item:only-child::after {width: 0;}#sk-container-id-6 div.sk-dashed-wrapped {border: 1px dashed gray;margin: 0 0.4em 0.5em 0.4em;box-sizing: border-box;padding-bottom: 0.4em;background-color: white;}#sk-container-id-6 div.sk-label label {font-family: monospace;font-weight: bold;display: inline-block;line-height: 1.2em;}#sk-container-id-6 div.sk-label-container {text-align: center;}#sk-container-id-6 div.sk-container {/* jupyter's `normalize.less` sets `[hidden] { display: none; }` but bootstrap.min.css set `[hidden] { display: none !important; }` so we also need the `!important` here to be able to override the default hidden behavior on the sphinx rendered scikit-learn.org. See: https://github.com/scikit-learn/scikit-learn/issues/21755 */display: inline-block !important;position: relative;}#sk-container-id-6 div.sk-text-repr-fallback {display: none;}</style><div id=\"sk-container-id-6\" class=\"sk-top-container\"><div class=\"sk-text-repr-fallback\"><pre>SVC()</pre><b>In a Jupyter environment, please rerun this cell to show the HTML representation or trust the notebook. <br />On GitHub, the HTML representation is unable to render, please try loading this page with nbviewer.org.</b></div><div class=\"sk-container\" hidden><div class=\"sk-item\"><div class=\"sk-estimator sk-toggleable\"><input class=\"sk-toggleable__control sk-hidden--visually\" id=\"sk-estimator-id-6\" type=\"checkbox\" checked><label for=\"sk-estimator-id-6\" class=\"sk-toggleable__label sk-toggleable__label-arrow\">SVC</label><div class=\"sk-toggleable__content\"><pre>SVC()</pre></div></div></div></div></div>"
      ],
      "text/plain": [
       "SVC()"
      ]
     },
     "execution_count": 64,
     "metadata": {},
     "output_type": "execute_result"
    }
   ],
   "source": [
    "final_svm_model.fit(X_train_val_vec, y_train_val)"
   ]
  },
  {
   "cell_type": "code",
   "execution_count": 65,
   "id": "952fec86",
   "metadata": {},
   "outputs": [
    {
     "name": "stdout",
     "output_type": "stream",
     "text": [
      "0.9412238805970149\n"
     ]
    }
   ],
   "source": [
    "svm_train_score = final_svm_model.score(X_train_val_vec, y_train_val)\n",
    "print(svm_train_score)"
   ]
  },
  {
   "cell_type": "code",
   "execution_count": 66,
   "id": "f920469c",
   "metadata": {},
   "outputs": [
    {
     "name": "stdout",
     "output_type": "stream",
     "text": [
      "0.8418787878787879\n"
     ]
    }
   ],
   "source": [
    "# doslo je do preprilagodjavanja\n",
    "svm_test_score = final_svm_model.score(X_test_vec, y_test)\n",
    "print(svm_test_score)"
   ]
  },
  {
   "cell_type": "code",
   "execution_count": 67,
   "id": "7972396f",
   "metadata": {},
   "outputs": [],
   "source": [
    "y_test_predicted = final_svm_model.predict(X_test_vec)"
   ]
  },
  {
   "cell_type": "code",
   "execution_count": 68,
   "id": "722eb678",
   "metadata": {},
   "outputs": [
    {
     "name": "stdout",
     "output_type": "stream",
     "text": [
      "              precision    recall  f1-score   support\n",
      "\n",
      "           0       0.85      0.83      0.84      8250\n",
      "           1       0.83      0.86      0.84      8250\n",
      "\n",
      "    accuracy                           0.84     16500\n",
      "   macro avg       0.84      0.84      0.84     16500\n",
      "weighted avg       0.84      0.84      0.84     16500\n",
      "\n"
     ]
    }
   ],
   "source": [
    "print(metrics.classification_report(y_test, y_test_predicted))"
   ]
  },
  {
   "cell_type": "code",
   "execution_count": 69,
   "id": "31a25eb2",
   "metadata": {},
   "outputs": [
    {
     "data": {
      "image/png": "[encoded data removed]",
      "text/plain": [
       "<Figure size 640x480 with 2 Axes>"
      ]
     },
     "metadata": {},
     "output_type": "display_data"
    }
   ],
   "source": [
    "confusion_matrix = metrics.confusion_matrix(y_test, y_test_predicted)\n",
    "cm_display = metrics.ConfusionMatrixDisplay(confusion_matrix = confusion_matrix)\n",
    "cm_display.plot()\n",
    "plt.show()"
   ]
  },
  {
   "cell_type": "code",
   "execution_count": 71,
   "id": "9ded75b0",
   "metadata": {},
   "outputs": [],
   "source": [
    "# ne mogu se izracunati za nelinarni kernel\n",
    "# final_svm.model.coef_"
   ]
  },
  {
   "cell_type": "markdown",
   "id": "66a944fb",
   "metadata": {},
   "source": [
    "### K najblizih suseda"
   ]
  },
  {
   "cell_type": "code",
   "execution_count": 39,
   "id": "8e954853",
   "metadata": {},
   "outputs": [
    {
     "data": {
      "text/plain": [
       "((26800, 351), (6700, 351))"
      ]
     },
     "execution_count": 39,
     "metadata": {},
     "output_type": "execute_result"
    }
   ],
   "source": [
    "X_train_vectorized.shape, X_val_vectorized.shape"
   ]
  },
  {
   "cell_type": "code",
   "execution_count": 40,
   "id": "62a3b34e",
   "metadata": {},
   "outputs": [
    {
     "name": "stdout",
     "output_type": "stream",
     "text": [
      "Najbolji broj suseda : 50\n",
      "Najbolja metrika: euclidean\n",
      "Najbolji skor: 0.7756716417910448\n"
     ]
    }
   ],
   "source": [
    "Ks = np.array([10*i for i in range(1, 10)])\n",
    "dist_metrics = ['manhattan', 'euclidean']\n",
    "\n",
    "best_score = float('-inf')\n",
    "best_params = {'K': None, 'metric': None}\n",
    "\n",
    "accuracies = {'manhattan': [], 'euclidean': []}                     \n",
    "              \n",
    "for K in Ks:\n",
    "    for metric in dist_metrics:\n",
    "        model = neighbors.KNeighborsClassifier(n_neighbors=K, metric=metric)\n",
    "              \n",
    "        model.fit(X_train_vectorized, y_train)\n",
    "        score = metrics.accuracy_score(y_val, model.predict(X_val_vectorized))\n",
    "        accuracies[metric].append(score)\n",
    "        # print(f'K: {K} metric: {metric} - score: {score}')\n",
    "        if score > best_score:\n",
    "            best_score = score\n",
    "            best_params['K'] = K\n",
    "            best_params['metric'] = metric\n",
    "\n",
    "# print('------------------------------------------------------------------------')            \n",
    "print(f\"Najbolji broj suseda : {best_params['K']}\")\n",
    "print(f\"Najbolja metrika: {best_params['metric']}\")\n",
    "print(f'Najbolji skor: {best_score}')"
   ]
  },
  {
   "cell_type": "code",
   "execution_count": 41,
   "id": "5e8116b6",
   "metadata": {},
   "outputs": [
    {
     "data": {
      "image/png": "[encoded data removed]",
      "text/plain": [
       "<Figure size 1000x600 with 2 Axes>"
      ]
     },
     "metadata": {},
     "output_type": "display_data"
    }
   ],
   "source": [
    "fig, (ax1, ax2) = plt.subplots(1, 2, figsize=(10, 6))\n",
    "ax1.plot(Ks, accuracies['manhattan'])\n",
    "ax1.set_title('Menhetn rastojanje')\n",
    "ax1.set_xlabel('K')\n",
    "ax1.set_ylabel('Tacnost')\n",
    "\n",
    "ax2.plot(Ks, accuracies['euclidean'])\n",
    "ax2.set_title('Euklidsko rastojanje')\n",
    "ax2.set_xlabel('K')\n",
    "ax2.set_ylabel('Tacnost')\n",
    "\n",
    "fig.suptitle('Promena tacnosti sa promenom K')\n",
    "\n",
    "plt.subplots_adjust(left=0.1,\n",
    "                    bottom=0.1,\n",
    "                    right=0.9,\n",
    "                    top=0.9,\n",
    "                    wspace=0.4,\n",
    "                    hspace=0.4)\n",
    "\n",
    "plt.show()"
   ]
  },
  {
   "cell_type": "code",
   "execution_count": 42,
   "id": "02da166c",
   "metadata": {},
   "outputs": [],
   "source": [
    "final_knn_model = neighbors.KNeighborsClassifier(n_neighbors=best_params['K'], metric=best_params['metric'])"
   ]
  },
  {
   "cell_type": "code",
   "execution_count": 43,
   "id": "e368949a",
   "metadata": {},
   "outputs": [
    {
     "data": {
      "text/html": [
       "<style>#sk-container-id-4 {color: black;background-color: white;}#sk-container-id-4 pre{padding: 0;}#sk-container-id-4 div.sk-toggleable {background-color: white;}#sk-container-id-4 label.sk-toggleable__label {cursor: pointer;display: block;width: 100%;margin-bottom: 0;padding: 0.3em;box-sizing: border-box;text-align: center;}#sk-container-id-4 label.sk-toggleable__label-arrow:before {content: \"▸\";float: left;margin-right: 0.25em;color: #696969;}#sk-container-id-4 label.sk-toggleable__label-arrow:hover:before {color: black;}#sk-container-id-4 div.sk-estimator:hover label.sk-toggleable__label-arrow:before {color: black;}#sk-container-id-4 div.sk-toggleable__content {max-height: 0;max-width: 0;overflow: hidden;text-align: left;background-color: #f0f8ff;}#sk-container-id-4 div.sk-toggleable__content pre {margin: 0.2em;color: black;border-radius: 0.25em;background-color: #f0f8ff;}#sk-container-id-4 input.sk-toggleable__control:checked~div.sk-toggleable__content {max-height: 200px;max-width: 100%;overflow: auto;}#sk-container-id-4 input.sk-toggleable__control:checked~label.sk-toggleable__label-arrow:before {content: \"▾\";}#sk-container-id-4 div.sk-estimator input.sk-toggleable__control:checked~label.sk-toggleable__label {background-color: #d4ebff;}#sk-container-id-4 div.sk-label input.sk-toggleable__control:checked~label.sk-toggleable__label {background-color: #d4ebff;}#sk-container-id-4 input.sk-hidden--visually {border: 0;clip: rect(1px 1px 1px 1px);clip: rect(1px, 1px, 1px, 1px);height: 1px;margin: -1px;overflow: hidden;padding: 0;position: absolute;width: 1px;}#sk-container-id-4 div.sk-estimator {font-family: monospace;background-color: #f0f8ff;border: 1px dotted black;border-radius: 0.25em;box-sizing: border-box;margin-bottom: 0.5em;}#sk-container-id-4 div.sk-estimator:hover {background-color: #d4ebff;}#sk-container-id-4 div.sk-parallel-item::after {content: \"\";width: 100%;border-bottom: 1px solid gray;flex-grow: 1;}#sk-container-id-4 div.sk-label:hover label.sk-toggleable__label {background-color: #d4ebff;}#sk-container-id-4 div.sk-serial::before {content: \"\";position: absolute;border-left: 1px solid gray;box-sizing: border-box;top: 0;bottom: 0;left: 50%;z-index: 0;}#sk-container-id-4 div.sk-serial {display: flex;flex-direction: column;align-items: center;background-color: white;padding-right: 0.2em;padding-left: 0.2em;position: relative;}#sk-container-id-4 div.sk-item {position: relative;z-index: 1;}#sk-container-id-4 div.sk-parallel {display: flex;align-items: stretch;justify-content: center;background-color: white;position: relative;}#sk-container-id-4 div.sk-item::before, #sk-container-id-4 div.sk-parallel-item::before {content: \"\";position: absolute;border-left: 1px solid gray;box-sizing: border-box;top: 0;bottom: 0;left: 50%;z-index: -1;}#sk-container-id-4 div.sk-parallel-item {display: flex;flex-direction: column;z-index: 1;position: relative;background-color: white;}#sk-container-id-4 div.sk-parallel-item:first-child::after {align-self: flex-end;width: 50%;}#sk-container-id-4 div.sk-parallel-item:last-child::after {align-self: flex-start;width: 50%;}#sk-container-id-4 div.sk-parallel-item:only-child::after {width: 0;}#sk-container-id-4 div.sk-dashed-wrapped {border: 1px dashed gray;margin: 0 0.4em 0.5em 0.4em;box-sizing: border-box;padding-bottom: 0.4em;background-color: white;}#sk-container-id-4 div.sk-label label {font-family: monospace;font-weight: bold;display: inline-block;line-height: 1.2em;}#sk-container-id-4 div.sk-label-container {text-align: center;}#sk-container-id-4 div.sk-container {/* jupyter's `normalize.less` sets `[hidden] { display: none; }` but bootstrap.min.css set `[hidden] { display: none !important; }` so we also need the `!important` here to be able to override the default hidden behavior on the sphinx rendered scikit-learn.org. See: https://github.com/scikit-learn/scikit-learn/issues/21755 */display: inline-block !important;position: relative;}#sk-container-id-4 div.sk-text-repr-fallback {display: none;}</style><div id=\"sk-container-id-4\" class=\"sk-top-container\"><div class=\"sk-text-repr-fallback\"><pre>KNeighborsClassifier(metric=&#x27;euclidean&#x27;, n_neighbors=50)</pre><b>In a Jupyter environment, please rerun this cell to show the HTML representation or trust the notebook. <br />On GitHub, the HTML representation is unable to render, please try loading this page with nbviewer.org.</b></div><div class=\"sk-container\" hidden><div class=\"sk-item\"><div class=\"sk-estimator sk-toggleable\"><input class=\"sk-toggleable__control sk-hidden--visually\" id=\"sk-estimator-id-4\" type=\"checkbox\" checked><label for=\"sk-estimator-id-4\" class=\"sk-toggleable__label sk-toggleable__label-arrow\">KNeighborsClassifier</label><div class=\"sk-toggleable__content\"><pre>KNeighborsClassifier(metric=&#x27;euclidean&#x27;, n_neighbors=50)</pre></div></div></div></div></div>"
      ],
      "text/plain": [
       "KNeighborsClassifier(metric='euclidean', n_neighbors=50)"
      ]
     },
     "execution_count": 43,
     "metadata": {},
     "output_type": "execute_result"
    }
   ],
   "source": [
    "final_knn_model.fit(X_train_val_vec, y_train_val)"
   ]
  },
  {
   "cell_type": "code",
   "execution_count": 44,
   "id": "259d80bd",
   "metadata": {},
   "outputs": [
    {
     "name": "stdout",
     "output_type": "stream",
     "text": [
      "0.7893432835820896\n"
     ]
    }
   ],
   "source": [
    "knn_train_score = final_knn_model.score(X_train_val_vec, y_train_val)\n",
    "print(knn_train_score)"
   ]
  },
  {
   "cell_type": "code",
   "execution_count": 45,
   "id": "803657ce",
   "metadata": {},
   "outputs": [
    {
     "name": "stdout",
     "output_type": "stream",
     "text": [
      "0.7821818181818182\n"
     ]
    }
   ],
   "source": [
    "knn_test_score = final_knn_model.score(X_test_vec, y_test)\n",
    "print(knn_test_score)"
   ]
  },
  {
   "cell_type": "code",
   "execution_count": 46,
   "id": "20394c75",
   "metadata": {},
   "outputs": [],
   "source": [
    "y_test_predicted = final_knn_model.predict(X_test_vec)"
   ]
  },
  {
   "cell_type": "code",
   "execution_count": 47,
   "id": "86e0efa5",
   "metadata": {},
   "outputs": [
    {
     "name": "stdout",
     "output_type": "stream",
     "text": [
      "              precision    recall  f1-score   support\n",
      "\n",
      "           0       0.80      0.75      0.77      8250\n",
      "           1       0.77      0.81      0.79      8250\n",
      "\n",
      "    accuracy                           0.78     16500\n",
      "   macro avg       0.78      0.78      0.78     16500\n",
      "weighted avg       0.78      0.78      0.78     16500\n",
      "\n"
     ]
    }
   ],
   "source": [
    "print(metrics.classification_report(y_test, y_test_predicted))"
   ]
  },
  {
   "cell_type": "code",
   "execution_count": 48,
   "id": "16d5664b",
   "metadata": {
    "scrolled": false
   },
   "outputs": [
    {
     "data": {
      "image/png": "[encoded data removed]",
      "text/plain": [
       "<Figure size 640x480 with 2 Axes>"
      ]
     },
     "metadata": {},
     "output_type": "display_data"
    }
   ],
   "source": [
    "confusion_matrix = metrics.confusion_matrix(y_test, y_test_predicted)\n",
    "cm_display = metrics.ConfusionMatrixDisplay(confusion_matrix = confusion_matrix)\n",
    "cm_display.plot()\n",
    "plt.show()"
   ]
  }
 ],
 "metadata": {
  "kernelspec": {
   "display_name": "Python 3 (ipykernel)",
   "language": "python",
   "name": "python3"
  },
  "language_info": {
   "codemirror_mode": {
    "name": "ipython",
    "version": 3
   },
   "file_extension": ".py",
   "mimetype": "text/x-python",
   "name": "python",
   "nbconvert_exporter": "python",
   "pygments_lexer": "ipython3",
   "version": "3.10.9"
  }
 },
 "nbformat": 4,
 "nbformat_minor": 5
}
